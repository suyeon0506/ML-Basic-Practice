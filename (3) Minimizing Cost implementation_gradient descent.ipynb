{
 "cells": [
  {
   "cell_type": "code",
   "execution_count": 11,
   "metadata": {},
   "outputs": [
    {
     "name": "stdout",
     "output_type": "stream",
     "text": [
      "0 5.7502594 [-0.11004436]\n",
      "1 1.6356295 [0.40797633]\n",
      "2 0.46524575 [0.68425405]\n",
      "3 0.13233654 [0.83160216]\n",
      "4 0.037642356 [0.91018784]\n",
      "5 0.0107071875 [0.95210016]\n",
      "6 0.0030455894 [0.97445345]\n",
      "7 0.0008663018 [0.98637515]\n",
      "8 0.00024641582 [0.9927334]\n",
      "9 7.0090784e-05 [0.9961245]\n",
      "10 1.9936799e-05 [0.9979331]\n",
      "11 5.6703334e-06 [0.9988977]\n",
      "12 1.6131439e-06 [0.99941206]\n",
      "13 4.5892207e-07 [0.9996864]\n",
      "14 1.3049974e-07 [0.99983275]\n",
      "15 3.7165066e-08 [0.9999108]\n",
      "16 1.0546448e-08 [0.99995244]\n",
      "17 3.014809e-09 [0.9999746]\n",
      "18 8.527046e-10 [0.99998647]\n",
      "19 2.4359892e-10 [0.9999928]\n",
      "20 6.7908935e-11 [0.9999962]\n"
     ]
    }
   ],
   "source": [
    "import tensorflow as tf\n",
    "\n",
    "x_data = [1,2,3]\n",
    "y_data = [1,2,3]\n",
    "\n",
    "W = tf.Variable(tf.random_normal([1]), name = 'weight')\n",
    "#W = tf.Variable(10.0) //test\n",
    "#W = tf.Variable(-7.0) //test\n",
    "X = tf.placeholder(tf.float32)\n",
    "Y = tf.placeholder(tf.float32)\n",
    "\n",
    "hypothesis = W * X\n",
    "cost = tf.reduce_mean(tf.square(hypothesis - Y))\n",
    "\n",
    "learning_rate = 0.1\n",
    "gradient = tf.reduce_mean((hypothesis - Y) * X)\n",
    "descent = W - learning_rate * gradient\n",
    "update = W.assign(descent)\n",
    "\n",
    "sess = tf.Session()\n",
    "sess.run(tf.global_variables_initializer())\n",
    "\n",
    "for step in range(21):\n",
    "    sess.run(update, feed_dict = {X : x_data, Y: y_data})\n",
    "    print(step, sess.run(cost, feed_dict = {X: x_data, Y: y_data}), sess.run(W))"
   ]
  }
 ],
 "metadata": {
  "kernelspec": {
   "display_name": "Python 3",
   "language": "python",
   "name": "python3"
  },
  "language_info": {
   "codemirror_mode": {
    "name": "ipython",
    "version": 3
   },
   "file_extension": ".py",
   "mimetype": "text/x-python",
   "name": "python",
   "nbconvert_exporter": "python",
   "pygments_lexer": "ipython3",
   "version": "3.6.5"
  }
 },
 "nbformat": 4,
 "nbformat_minor": 2
}
